{
 "cells": [
  {
   "cell_type": "code",
   "execution_count": 1,
   "id": "fe9e4e8c-7bab-4fae-ae68-c0aa77ba9ad6",
   "metadata": {},
   "outputs": [
    {
     "name": "stdout",
     "output_type": "stream",
     "text": [
      "1. Display Menu\n",
      "2. Add Menu Item\n",
      "3. Place Order\n",
      "4. Exit\n"
     ]
    },
    {
     "name": "stdin",
     "output_type": "stream",
     "text": [
      "Enter your choice:  1\n"
     ]
    },
    {
     "name": "stdout",
     "output_type": "stream",
     "text": [
      "\n",
      "Cafe Menu:\n",
      "----------------------------------------\n",
      "1. Coffee - $2.50\n",
      "2. Tea - $1.75\n",
      "4. Espresso - $3.00\n",
      "5. Latte - $3.50\n",
      "6. Cappuccino - $3.75\n",
      "7. Mocha - $4.00\n",
      "8. Americano - $2.75\n",
      "9. Macchiato - $3.25\n",
      "10. Hot Chocolate - $3.50\n",
      "11. Chai Latte - $3.50\n",
      "12. Iced Coffee - $3.00\n",
      "13. Cold Brew - $3.25\n",
      "14. Bagel - $2.50\n",
      "15. Croissant - $2.75\n",
      "16. Muffin - $2.50\n",
      "17. Brownie - $3.00\n",
      "18. Cookies - $1.75\n",
      "19. Sandwich - $4.00\n",
      "20. Salad - $4.50\n",
      "21. Soup - $3.75\n",
      "22. Quiche - $4.25\n",
      "23. Pasta - $5.00\n",
      "----------------------------------------\n",
      "1. Display Menu\n",
      "2. Add Menu Item\n",
      "3. Place Order\n",
      "4. Exit\n"
     ]
    },
    {
     "name": "stdin",
     "output_type": "stream",
     "text": [
      "Enter your choice:  3\n"
     ]
    },
    {
     "name": "stdout",
     "output_type": "stream",
     "text": [
      "\n",
      "Cafe Menu:\n",
      "----------------------------------------\n",
      "1. Coffee - $2.50\n",
      "2. Tea - $1.75\n",
      "4. Espresso - $3.00\n",
      "5. Latte - $3.50\n",
      "6. Cappuccino - $3.75\n",
      "7. Mocha - $4.00\n",
      "8. Americano - $2.75\n",
      "9. Macchiato - $3.25\n",
      "10. Hot Chocolate - $3.50\n",
      "11. Chai Latte - $3.50\n",
      "12. Iced Coffee - $3.00\n",
      "13. Cold Brew - $3.25\n",
      "14. Bagel - $2.50\n",
      "15. Croissant - $2.75\n",
      "16. Muffin - $2.50\n",
      "17. Brownie - $3.00\n",
      "18. Cookies - $1.75\n",
      "19. Sandwich - $4.00\n",
      "20. Salad - $4.50\n",
      "21. Soup - $3.75\n",
      "22. Quiche - $4.25\n",
      "23. Pasta - $5.00\n",
      "----------------------------------------\n"
     ]
    },
    {
     "name": "stdin",
     "output_type": "stream",
     "text": [
      "Enter the item number to order (or 0 to finish):  1\n"
     ]
    },
    {
     "name": "stdout",
     "output_type": "stream",
     "text": [
      "Added Coffee - $2.50 to your order.\n"
     ]
    },
    {
     "name": "stdin",
     "output_type": "stream",
     "text": [
      "Enter the item number to order (or 0 to finish):  18\n"
     ]
    },
    {
     "name": "stdout",
     "output_type": "stream",
     "text": [
      "Added Cookies - $1.75 to your order.\n"
     ]
    },
    {
     "name": "stdin",
     "output_type": "stream",
     "text": [
      "Enter the item number to order (or 0 to finish):  19\n"
     ]
    },
    {
     "name": "stdout",
     "output_type": "stream",
     "text": [
      "Added Sandwich - $4.00 to your order.\n"
     ]
    },
    {
     "name": "stdin",
     "output_type": "stream",
     "text": [
      "Enter the item number to order (or 0 to finish):  23\n"
     ]
    },
    {
     "name": "stdout",
     "output_type": "stream",
     "text": [
      "Added Pasta - $5.00 to your order.\n"
     ]
    },
    {
     "name": "stdin",
     "output_type": "stream",
     "text": [
      "Enter the item number to order (or 0 to finish):  0\n"
     ]
    },
    {
     "name": "stdout",
     "output_type": "stream",
     "text": [
      "\n",
      "Your total bill is: $13.25\n",
      "1. Display Menu\n",
      "2. Add Menu Item\n",
      "3. Place Order\n",
      "4. Exit\n"
     ]
    },
    {
     "name": "stdin",
     "output_type": "stream",
     "text": [
      "Enter your choice:  2\n",
      "Enter item name:  Maggi\n",
      "Enter item price:  1\n"
     ]
    },
    {
     "name": "stdout",
     "output_type": "stream",
     "text": [
      "Menu item added successfully!\n",
      "1. Display Menu\n",
      "2. Add Menu Item\n",
      "3. Place Order\n",
      "4. Exit\n"
     ]
    },
    {
     "name": "stdin",
     "output_type": "stream",
     "text": [
      "Enter your choice:  1\n"
     ]
    },
    {
     "name": "stdout",
     "output_type": "stream",
     "text": [
      "\n",
      "Cafe Menu:\n",
      "----------------------------------------\n",
      "1. Coffee - $2.50\n",
      "2. Tea - $1.75\n",
      "4. Espresso - $3.00\n",
      "5. Latte - $3.50\n",
      "6. Cappuccino - $3.75\n",
      "7. Mocha - $4.00\n",
      "8. Americano - $2.75\n",
      "9. Macchiato - $3.25\n",
      "10. Hot Chocolate - $3.50\n",
      "11. Chai Latte - $3.50\n",
      "12. Iced Coffee - $3.00\n",
      "13. Cold Brew - $3.25\n",
      "14. Bagel - $2.50\n",
      "15. Croissant - $2.75\n",
      "16. Muffin - $2.50\n",
      "17. Brownie - $3.00\n",
      "18. Cookies - $1.75\n",
      "19. Sandwich - $4.00\n",
      "20. Salad - $4.50\n",
      "21. Soup - $3.75\n",
      "22. Quiche - $4.25\n",
      "23. Pasta - $5.00\n",
      "24. Maggi - $1.00\n",
      "----------------------------------------\n",
      "1. Display Menu\n",
      "2. Add Menu Item\n",
      "3. Place Order\n",
      "4. Exit\n"
     ]
    },
    {
     "name": "stdin",
     "output_type": "stream",
     "text": [
      "Enter your choice:  4\n"
     ]
    }
   ],
   "source": [
    "import mysql.connector\n",
    "\n",
    "# Database connection\n",
    "def connect_to_db():\n",
    "    return mysql.connector.connect(\n",
    "        host='localhost',\n",
    "        user='root',  # replace with your MySQL username\n",
    "        password='1234',  # replace with your MySQL password\n",
    "        database='cafe',\n",
    "        charset='utf8'\n",
    "    )\n",
    "\n",
    "# Fetch menu items\n",
    "def fetch_menu():\n",
    "    conn = connect_to_db()\n",
    "    cursor = conn.cursor()\n",
    "    cursor.execute(\"SELECT id, item_name, price FROM menu\")\n",
    "    items = cursor.fetchall()\n",
    "    conn.close()\n",
    "    return items\n",
    "\n",
    "# Display menu with item numbers\n",
    "def display_menu():\n",
    "    items = fetch_menu()\n",
    "    print(\"\\nCafe Menu:\")\n",
    "    print(\"-\" * 40)\n",
    "    for item in items:\n",
    "        print(f\"{item[0]}. {item[1]} - ${item[2]:.2f}\")\n",
    "    print(\"-\" * 40)\n",
    "\n",
    "# Add a new menu item\n",
    "def add_menu_item(name, price):\n",
    "    conn = connect_to_db()\n",
    "    cursor = conn.cursor()\n",
    "    cursor.execute(\"INSERT INTO menu (item_name, price) VALUES (%s, %s)\", (name, price))\n",
    "    conn.commit()\n",
    "    conn.close()\n",
    "\n",
    "# Place an order\n",
    "def place_order():\n",
    "    display_menu()\n",
    "    conn = connect_to_db()\n",
    "    cursor = conn.cursor()\n",
    "    total = 0\n",
    "    while True:\n",
    "        try:\n",
    "            item_id = int(input(\"Enter the item number to order (or 0 to finish): \"))\n",
    "            if item_id == 0:\n",
    "                break\n",
    "            cursor.execute(\"SELECT item_name, price FROM menu WHERE id = %s\", (item_id,))\n",
    "            item = cursor.fetchone()\n",
    "            if item:\n",
    "                item_name, item_price = item\n",
    "                total += item_price\n",
    "                print(f\"Added {item_name} - ${item_price:.2f} to your order.\")\n",
    "            else:\n",
    "                print(\"Invalid item number. Please try again.\")\n",
    "        except ValueError:\n",
    "            print(\"Please enter a valid number.\")\n",
    "    conn.close()\n",
    "    print(f\"\\nYour total bill is: ${total:.2f}\")\n",
    "\n",
    "# Main function\n",
    "def main():\n",
    "    while True:\n",
    "        print(\"1. Display Menu\")\n",
    "        print(\"2. Add Menu Item\")\n",
    "        print(\"3. Place Order\")\n",
    "        print(\"4. Exit\")\n",
    "        \n",
    "        choice = input(\"Enter your choice: \")\n",
    "\n",
    "        if choice == '1':\n",
    "            display_menu()\n",
    "        elif choice == '2':\n",
    "            name = input(\"Enter item name: \")\n",
    "            price = float(input(\"Enter item price: \"))\n",
    "            add_menu_item(name, price)\n",
    "            print(\"Menu item added successfully!\")\n",
    "        elif choice == '3':\n",
    "            place_order()\n",
    "        elif choice == '4':\n",
    "            break\n",
    "        else:\n",
    "            print(\"Invalid choice. Please try again.\")\n",
    "\n",
    "if __name__ == \"__main__\":\n",
    "    main()\n"
   ]
  },
  {
   "cell_type": "code",
   "execution_count": null,
   "id": "8abf9d93-0beb-491b-b950-eae79f1f0fd2",
   "metadata": {},
   "outputs": [],
   "source": []
  }
 ],
 "metadata": {
  "kernelspec": {
   "display_name": "Python 3 (ipykernel)",
   "language": "python",
   "name": "python3"
  },
  "language_info": {
   "codemirror_mode": {
    "name": "ipython",
    "version": 3
   },
   "file_extension": ".py",
   "mimetype": "text/x-python",
   "name": "python",
   "nbconvert_exporter": "python",
   "pygments_lexer": "ipython3",
   "version": "3.12.4"
  }
 },
 "nbformat": 4,
 "nbformat_minor": 5
}
